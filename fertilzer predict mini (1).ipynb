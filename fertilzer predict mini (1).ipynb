{
 "cells": [
  {
   "cell_type": "markdown",
   "id": "8cd52d2e-7b09-48a7-a168-75b21343d2ac",
   "metadata": {},
   "source": [
    "<h1>FERTILIZER PREDICTION</h1>"
   ]
  },
  {
   "cell_type": "code",
   "execution_count": 3,
   "id": "07019a20-5232-4aa7-9276-aa797524d0f5",
   "metadata": {},
   "outputs": [
    {
     "name": "stdout",
     "output_type": "stream",
     "text": [
      "Loaded\n",
      "Model Trained Successfully\n"
     ]
    }
   ],
   "source": [
    "import pandas as pd\n",
    "from sklearn.model_selection import train_test_split\n",
    "from sklearn.preprocessing import OrdinalEncoder\n",
    "from sklearn.ensemble import RandomForestClassifier\n",
    "from sklearn.metrics import accuracy_score\n",
    "print(\"Loaded\")\n",
    "\n",
    "# Load the dataset\n",
    "file_path = \"Fertilizer Prediction.csv\" \n",
    "data = pd.read_csv(file_path)\n",
    "\n",
    "# Correct the column name for \"Temperature\" and \"Humidity\"\n",
    "data.rename(columns={\"Temparature\": \"Temperature\", \"Humidity \": \"Humidity\"}, inplace=True)\n",
    "\n",
    "# Initialize OrdinalEncoder for categorical columns\n",
    "ordinal_encoder_crop = OrdinalEncoder(handle_unknown='use_encoded_value', unknown_value=-1)\n",
    "ordinal_encoder_soil = OrdinalEncoder(handle_unknown='use_encoded_value', unknown_value=-1)\n",
    "ordinal_encoder_fertilizer = OrdinalEncoder()\n",
    "\n",
    "# Encode the categorical columns (Crop Type, Soil Type, and Fertilizer Name)\n",
    "data['Crop Type'] = ordinal_encoder_crop.fit_transform(data[['Crop Type']])\n",
    "data['Soil Type'] = ordinal_encoder_soil.fit_transform(data[['Soil Type']])\n",
    "data['Fertilizer Name'] = ordinal_encoder_fertilizer.fit_transform(data[['Fertilizer Name']])\n",
    "\n",
    "# Features and target\n",
    "X = data[['Crop Type', 'Soil Type', 'Temperature', 'Humidity', 'Moisture', 'Nitrogen', 'Potassium', 'Phosphorous']]\n",
    "y = data['Fertilizer Name']\n",
    "\n",
    "# Train-test split\n",
    "X_train, X_test, y_train, y_test = train_test_split(X, y, test_size=0.2, random_state=42)\n",
    "\n",
    "# Initialize and train the Random Forest Classifier\n",
    "model = RandomForestClassifier(n_estimators=100, random_state=42)\n",
    "model.fit(X_train, y_train)\n",
    "print(\"Model Trained Successfully\")\n",
    "# Make predictions on the test set\n",
    "y_pred = model.predict(X_test)\n",
    "\n",
    "# Evaluate the model\n",
    "accuracy = accuracy_score(y_test, y_pred)\n",
    "# print(f\"Model Accuracy: {accuracy * 100:.2f}%\")\n",
    "\n",
    "# Function to recommend fertilizer based on input conditions\n",
    "def recommend_fertilizer_ml(crop, soil_type, temperature, humidity, moisture, nitrogen, potassium, phosphorous, model):\n",
    "    # Create a DataFrame with proper column names for encoding\n",
    "    crop_df = pd.DataFrame([[crop]], columns=['Crop Type'])\n",
    "    soil_df = pd.DataFrame([[soil_type]], columns=['Soil Type'])\n",
    "    \n",
    "    # Encode input values using the same encoder fitted on training data\n",
    "    crop_encoded = ordinal_encoder_crop.transform(crop_df)[0][0]\n",
    "    soil_encoded = ordinal_encoder_soil.transform(soil_df)[0][0]\n",
    "    \n",
    "    # Prepare the input for prediction with correct feature names\n",
    "    input_data = pd.DataFrame([[crop_encoded, soil_encoded, temperature, humidity, moisture, nitrogen, potassium, phosphorous]], \n",
    "                              columns=['Crop Type', 'Soil Type', 'Temperature', 'Humidity', 'Moisture', 'Nitrogen', 'Potassium', 'Phosphorous'])\n",
    "    \n",
    "    # Predict fertilizer\n",
    "    fertilizer_encoded = model.predict(input_data)[0]\n",
    "    \n",
    "    # Decode the prediction\n",
    "    fertilizer = ordinal_encoder_fertilizer.inverse_transform([[fertilizer_encoded]])[0][0]\n",
    "    return fertilizer\n",
    "\n"
   ]
  },
  {
   "cell_type": "code",
   "execution_count": 4,
   "id": "91c3e61e",
   "metadata": {},
   "outputs": [
    {
     "name": "stdout",
     "output_type": "stream",
     "text": [
      "Requirement already satisfied: pandas in ./.venv/lib/python3.12/site-packages (2.2.3)\n",
      "Requirement already satisfied: scikit-learn in ./.venv/lib/python3.12/site-packages (1.6.1)\n",
      "Requirement already satisfied: numpy>=1.26.0 in ./.venv/lib/python3.12/site-packages (from pandas) (2.2.4)\n",
      "Requirement already satisfied: python-dateutil>=2.8.2 in ./.venv/lib/python3.12/site-packages (from pandas) (2.9.0.post0)\n",
      "Requirement already satisfied: pytz>=2020.1 in ./.venv/lib/python3.12/site-packages (from pandas) (2025.2)\n",
      "Requirement already satisfied: tzdata>=2022.7 in ./.venv/lib/python3.12/site-packages (from pandas) (2025.2)\n",
      "Requirement already satisfied: scipy>=1.6.0 in ./.venv/lib/python3.12/site-packages (from scikit-learn) (1.15.2)\n",
      "Requirement already satisfied: joblib>=1.2.0 in ./.venv/lib/python3.12/site-packages (from scikit-learn) (1.4.2)\n",
      "Requirement already satisfied: threadpoolctl>=3.1.0 in ./.venv/lib/python3.12/site-packages (from scikit-learn) (3.6.0)\n",
      "Requirement already satisfied: six>=1.5 in ./.venv/lib/python3.12/site-packages (from python-dateutil>=2.8.2->pandas) (1.17.0)\n",
      "Note: you may need to restart the kernel to use updated packages.\n",
      "Added\n"
     ]
    }
   ],
   "source": [
    "%pip install pandas scikit-learn\n",
    "print(\"Added\")"
   ]
  },
  {
   "cell_type": "markdown",
   "id": "d1cb3b35-d50e-4aae-8dcc-7bd8a1e48885",
   "metadata": {},
   "source": [
    "<h1>Model Accuracy</h1>"
   ]
  },
  {
   "cell_type": "code",
   "execution_count": 16,
   "id": "97ca4b6a-036a-405c-ab7e-ef3b3c83680a",
   "metadata": {},
   "outputs": [
    {
     "name": "stdout",
     "output_type": "stream",
     "text": [
      "Model Accuracy: 95.00%\n"
     ]
    }
   ],
   "source": [
    "print(f\"Model Accuracy: {accuracy * 100:.2f}%\")"
   ]
  },
  {
   "cell_type": "markdown",
   "id": "f6e533e9-d1a5-4ed2-8fb3-7d97143d45d1",
   "metadata": {},
   "source": [
    "<h1>Example usage for Fertilizer Prediction</h1>"
   ]
  },
  {
   "cell_type": "code",
   "execution_count": 8,
   "id": "3343fc64-f515-4324-889b-6368d9d3b510",
   "metadata": {},
   "outputs": [
    {
     "name": "stdout",
     "output_type": "stream",
     "text": [
      "Recommended Fertilizer: Urea\n"
     ]
    }
   ],
   "source": [
    "# Example usage for prediction\n",
    "crop = \"Maize\"\n",
    "soil_type = \"Sandy\"\n",
    "temperature = 22.6135\n",
    "humidity = 63.6907\n",
    "moisture = 87.7595\n",
    "nitrogen = 71\n",
    "potassium = 54\n",
    "phosphorous = 16\n",
    "\n",
    "fertilizer = recommend_fertilizer_ml(crop, soil_type, temperature, humidity, moisture, nitrogen, potassium, phosphorous, model)\n",
    "print(f\"Recommended Fertilizer: {fertilizer}\")"
   ]
  },
  {
   "cell_type": "code",
   "execution_count": 15,
   "id": "d76efac9",
   "metadata": {},
   "outputs": [
    {
     "name": "stdout",
     "output_type": "stream",
     "text": [
      "Recommended Fertilizer: 20-20\n"
     ]
    }
   ],
   "source": [
    "# Example usage for prediction\n",
    "crop = \"Maize\"\n",
    "soil_type = \"Loamy\"\n",
    "temperature = 2\n",
    "humidity = 7\n",
    "moisture = 8\n",
    "nitrogen = 6\n",
    "potassium = 4\n",
    "phosphorous = 2\n",
    "\n",
    "fertilizer = recommend_fertilizer_ml(crop, soil_type, temperature, humidity, moisture, nitrogen, potassium, phosphorous, model)\n",
    "print(f\"Recommended Fertilizer: {fertilizer}\")"
   ]
  },
  {
   "cell_type": "code",
   "execution_count": 6,
   "id": "d813cb25-4113-42fc-8963-faa2ad80a73e",
   "metadata": {},
   "outputs": [
    {
     "name": "stdout",
     "output_type": "stream",
     "text": [
      "Model saved as 'backend/model_fert.pkl'!\n"
     ]
    }
   ],
   "source": [
    "import pickle\n",
    "\n",
    "# Save trained model\n",
    "with open(\"backend/model_fert.pkl\", \"wb\") as model_file:\n",
    "    pickle.dump(model, model_file)\n",
    "\n",
    "print(\"Model saved as 'backend/model_fert.pkl'!\")\n"
   ]
  },
  {
   "cell_type": "code",
   "execution_count": 11,
   "id": "a83fe9df",
   "metadata": {},
   "outputs": [
    {
     "name": "stdout",
     "output_type": "stream",
     "text": [
      "Fertilizer Model Accuracy: 95.00%\n",
      "Fertilizer Model & Encoders saved successfully!\n"
     ]
    }
   ],
   "source": [
    "import pandas as pd\n",
    "import pickle\n",
    "from sklearn.model_selection import train_test_split\n",
    "from sklearn.preprocessing import OrdinalEncoder\n",
    "from sklearn.ensemble import RandomForestClassifier\n",
    "from sklearn.metrics import accuracy_score\n",
    "\n",
    "# Load dataset\n",
    "file_path = \"Fertilizer Prediction.csv\"\n",
    "data = pd.read_csv(file_path)\n",
    "\n",
    "# Correct column names\n",
    "data.rename(columns={\"Temparature\": \"Temperature\", \"Humidity \": \"Humidity\"}, inplace=True)\n",
    "\n",
    "# Initialize OrdinalEncoder for categorical columns\n",
    "ordinal_encoder_crop = OrdinalEncoder(handle_unknown='use_encoded_value', unknown_value=-1)\n",
    "ordinal_encoder_soil = OrdinalEncoder(handle_unknown='use_encoded_value', unknown_value=-1)\n",
    "ordinal_encoder_fertilizer = OrdinalEncoder()\n",
    "\n",
    "# Encode categorical columns\n",
    "data['Crop Type'] = ordinal_encoder_crop.fit_transform(data[['Crop Type']])\n",
    "data['Soil Type'] = ordinal_encoder_soil.fit_transform(data[['Soil Type']])\n",
    "data['Fertilizer Name'] = ordinal_encoder_fertilizer.fit_transform(data[['Fertilizer Name']])\n",
    "\n",
    "# Features and target\n",
    "X = data[['Crop Type', 'Soil Type', 'Temperature', 'Humidity', 'Moisture', 'Nitrogen', 'Potassium', 'Phosphorous']]\n",
    "y = data['Fertilizer Name']\n",
    "\n",
    "# Train-test split\n",
    "X_train, X_test, y_train, y_test = train_test_split(X, y, test_size=0.2, random_state=42)\n",
    "\n",
    "# Train RandomForestClassifier model\n",
    "fertilizer_model = RandomForestClassifier(random_state=42)\n",
    "fertilizer_model.fit(X_train, y_train)\n",
    "\n",
    "# Evaluate model\n",
    "y_pred = fertilizer_model.predict(X_test)\n",
    "accuracy = accuracy_score(y_test, y_pred)\n",
    "print(f\"Fertilizer Model Accuracy: {accuracy * 100:.2f}%\")\n",
    "\n",
    "# Save model and encoders\n",
    "with open(\"backend/model_fertilizer.pkl\", \"wb\") as f:\n",
    "    pickle.dump({\n",
    "        \"model\": fertilizer_model,\n",
    "        \"ordinal_encoder_crop\": ordinal_encoder_crop,\n",
    "        \"ordinal_encoder_soil\": ordinal_encoder_soil,\n",
    "        \"ordinal_encoder_fertilizer\": ordinal_encoder_fertilizer\n",
    "    }, f)\n",
    "\n",
    "print(\"Fertilizer Model & Encoders saved successfully!\")\n"
   ]
  },
  {
   "cell_type": "code",
   "execution_count": 17,
   "id": "a66c97a0",
   "metadata": {},
   "outputs": [
    {
     "name": "stdout",
     "output_type": "stream",
     "text": [
      "RandomForestClassifier(random_state=42)\n"
     ]
    }
   ],
   "source": [
    "print(model)"
   ]
  },
  {
   "cell_type": "code",
   "execution_count": 13,
   "id": "865c7e10",
   "metadata": {},
   "outputs": [
    {
     "name": "stdout",
     "output_type": "stream",
     "text": [
      "Available Fertilizers in Dataset:\n",
      "['Urea' 'DAP' '14-35-14' '28-28' '17-17-17' '20-20' '10-26-26']\n"
     ]
    }
   ],
   "source": [
    "import pandas as pd\n",
    "\n",
    "# Load the dataset\n",
    "file_path = \"Fertilizer Prediction.csv\"\n",
    "data = pd.read_csv(file_path)\n",
    "\n",
    "# Print unique fertilizer names\n",
    "print(\"Available Fertilizers in Dataset:\")\n",
    "print(data[\"Fertilizer Name\"].unique())\n"
   ]
  },
  {
   "cell_type": "code",
   "execution_count": 14,
   "id": "80855bdb",
   "metadata": {},
   "outputs": [
    {
     "name": "stdout",
     "output_type": "stream",
     "text": [
      "Fertilizer Encoding Mapping:\n",
      "0 → 10-26-26\n",
      "1 → 14-35-14\n",
      "2 → 17-17-17\n",
      "3 → 20-20\n",
      "4 → 28-28\n",
      "5 → DAP\n",
      "6 → Urea\n"
     ]
    }
   ],
   "source": [
    "print(\"Fertilizer Encoding Mapping:\")\n",
    "for i, fert in enumerate(ordinal_encoder_fertilizer.categories_[0]):\n",
    "    print(f\"{i} → {fert}\")\n"
   ]
  },
  {
   "cell_type": "code",
   "execution_count": null,
   "id": "80601e03",
   "metadata": {},
   "outputs": [],
   "source": []
  }
 ],
 "metadata": {
  "kernelspec": {
   "display_name": ".venv",
   "language": "python",
   "name": "python3"
  },
  "language_info": {
   "codemirror_mode": {
    "name": "ipython",
    "version": 3
   },
   "file_extension": ".py",
   "mimetype": "text/x-python",
   "name": "python",
   "nbconvert_exporter": "python",
   "pygments_lexer": "ipython3",
   "version": "3.12.3"
  }
 },
 "nbformat": 4,
 "nbformat_minor": 5
}
